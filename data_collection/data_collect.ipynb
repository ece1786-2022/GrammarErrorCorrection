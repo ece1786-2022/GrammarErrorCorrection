{
  "nbformat": 4,
  "nbformat_minor": 0,
  "metadata": {
    "colab": {
      "provenance": []
    },
    "kernelspec": {
      "name": "python3",
      "display_name": "Python 3"
    },
    "language_info": {
      "name": "python"
    }
  },
  "cells": [
    {
      "cell_type": "code",
      "source": [
        "from tqdm import tqdm\n",
        "import nltk\n",
        "nltk.download('punkt')\n",
        "from nltk.tokenize import sent_tokenize\n",
        "import random\n",
        "import pandas as pd"
      ],
      "metadata": {
        "id": "NdcnSD0vMLth",
        "colab": {
          "base_uri": "https://localhost:8080/"
        },
        "outputId": "183d044d-3394-4f46-8033-4132839b1161"
      },
      "execution_count": 1,
      "outputs": [
        {
          "output_type": "stream",
          "name": "stderr",
          "text": [
            "[nltk_data] Downloading package punkt to /root/nltk_data...\n",
            "[nltk_data]   Unzipping tokenizers/punkt.zip.\n"
          ]
        }
      ]
    },
    {
      "cell_type": "code",
      "execution_count": 2,
      "metadata": {
        "id": "qBwVbhUko6gy"
      },
      "outputs": [],
      "source": [
        "m2 = open(\"fce.train.gold.bea19.m2\").read().strip().split(\"\\n\\n\")"
      ]
    },
    {
      "cell_type": "code",
      "source": [
        "target_error_type = [\"R:NOUN\", \"R:VERB\", \"R:ADV\", \"R:ADJ\", \n",
        "          \"R:VERB:FORM\", \"R:ADJ:FORM\", \"R:NOUN:INFL\", \"R:VERB:INFL\", \"R:NOUN:NUM\", \"R:VERB:SVA\", \"R:VERB:SVA\",\n",
        "          \"R:PREP\", \"R:DET\", \"R:PRON\", \"R:CONJ\", \"R:PART\", \"R:CONTR\", \"R:SPELL\"]"
      ],
      "metadata": {
        "id": "K0K4ii80F4Aq"
      },
      "execution_count": 3,
      "outputs": []
    },
    {
      "cell_type": "code",
      "source": [
        "def extract_error_pattern(m2):\n",
        "  perturb_dict = {}\n",
        "  for sent in tqdm(m2):\n",
        "    sent = sent.split(\"\\n\")\n",
        "    wrong_sent = sent[0].split()[1:] # ignore S\n",
        "    edits = sent[1:]\n",
        "    for edit in edits:\n",
        "      edit = edit.split(\"|||\")\n",
        "      error_type = edit[1]\n",
        "      if error_type not in target_error_type:\n",
        "        continue\n",
        "      annotator_id = int(edit[-1])\n",
        "      if annotator_id != 0:\n",
        "        continue\n",
        "      position = edit[0].split()[1:] # ignore A\n",
        "      start = int(position[0])\n",
        "      end = int(position[1])\n",
        "      correct_word = edit[2]\n",
        "      wrong_word = wrong_sent[start:end][0]\n",
        "      if correct_word in perturb_dict.keys():\n",
        "        if wrong_word not in perturb_dict[correct_word]:\n",
        "          perturb_dict[correct_word].append(wrong_word)\n",
        "      else:\n",
        "        perturb_dict[correct_word]=[wrong_word]\n",
        "  return perturb_dict"
      ],
      "metadata": {
        "id": "5Eadh05au2XG"
      },
      "execution_count": 4,
      "outputs": []
    },
    {
      "cell_type": "code",
      "source": [
        "perturb_dict = extract_error_pattern(m2)"
      ],
      "metadata": {
        "colab": {
          "base_uri": "https://localhost:8080/"
        },
        "id": "vAZDbOMntIkV",
        "outputId": "5942cf37-e44c-41c0-aaf1-16c104fa639f"
      },
      "execution_count": 5,
      "outputs": [
        {
          "output_type": "stream",
          "name": "stderr",
          "text": [
            "100%|██████████| 28350/28350 [00:00<00:00, 176115.37it/s]\n"
          ]
        }
      ]
    },
    {
      "cell_type": "code",
      "source": [
        "def create_new_samples(txt, num_error_per_sent, num_error_sample):\n",
        "  correct_sent_list = []\n",
        "  wrong_sent_list = []\n",
        "  for sent in tqdm(sent_tokenize(toefl)):\n",
        "    for _ in range(num_error_sample):\n",
        "      correct_sent_list.append(sent)\n",
        "      words = sent.split()\n",
        "      potential_word = []\n",
        "      for i, word in enumerate(words):\n",
        "        if word in perturb_dict.keys():\n",
        "          potential_word.append((i, word))\n",
        "      word_to_change = random.choices(potential_word, k=num_error_per_sent)\n",
        "      for pick_word_position, pick_word in word_to_change:\n",
        "        replace_word = random.choice(perturb_dict[pick_word])\n",
        "        words[pick_word_position] = replace_word\n",
        "      wrong_sent_list.append(str(' '.join(words)))\n",
        "  df = pd.DataFrame()\n",
        "  df[\"correct\"] = correct_sent_list\n",
        "  df[\"incorrect\"] = wrong_sent_list\n",
        "  return df"
      ],
      "metadata": {
        "id": "4EjqMx3C0Kk9"
      },
      "execution_count": 6,
      "outputs": []
    },
    {
      "cell_type": "code",
      "source": [
        "toefl = open('tpo.txt').read()"
      ],
      "metadata": {
        "id": "ud9rFOKHRGKu"
      },
      "execution_count": 7,
      "outputs": []
    },
    {
      "cell_type": "code",
      "source": [
        "df = create_new_samples(toefl, num_error_per_sent=1, num_error_sample=1)"
      ],
      "metadata": {
        "colab": {
          "base_uri": "https://localhost:8080/"
        },
        "id": "SZYk-a5eRBZO",
        "outputId": "6182b990-0269-4d65-a63b-49a9c3b4260e"
      },
      "execution_count": 8,
      "outputs": [
        {
          "output_type": "stream",
          "name": "stderr",
          "text": [
            "100%|██████████| 492/492 [00:00<00:00, 53789.95it/s]\n"
          ]
        }
      ]
    },
    {
      "cell_type": "code",
      "source": [
        "df"
      ],
      "metadata": {
        "colab": {
          "base_uri": "https://localhost:8080/",
          "height": 804
        },
        "id": "luV-Eh56fJKT",
        "outputId": "128f1f71-5b45-4ec0-a73d-60f8a57bba2e"
      },
      "execution_count": 9,
      "outputs": [
        {
          "output_type": "execute_result",
          "data": {
            "text/plain": [
              "                                               correct  \\\n",
              "0    The government should spend more money support...   \n",
              "1    The issue that government should give financia...   \n",
              "2    On the one hand, artists produce some impressi...   \n",
              "3    On the other hand, athletes who win the champi...   \n",
              "4    However, in the ultimate analysis, the governm...   \n",
              "..                                                 ...   \n",
              "487  In contrast, graduates who are reluctant to pa...   \n",
              "488  As a case in point, researchers have found tha...   \n",
              "489  Between the two extremes, I think treating ani...   \n",
              "490  An individual human existence should be like a...   \n",
              "491  Gradually the river grows wider, the banks rec...   \n",
              "\n",
              "                                             incorrect  \n",
              "0    The government should spend more money support...  \n",
              "1    The issue that government should give economic...  \n",
              "2    On the one hand, artists produce some impressi...  \n",
              "3    On the other hand, athletes who win her champi...  \n",
              "4    However, in the ultimate analysis, the governe...  \n",
              "..                                                 ...  \n",
              "487  In contrast, graduates who are reluctant to pa...  \n",
              "488  As any case in point, researchers have found t...  \n",
              "489  Between the twe extremes, I think treating ani...  \n",
              "490  An individual human existence should be like a...  \n",
              "491  Gradually the river grows wider, the banks rec...  \n",
              "\n",
              "[492 rows x 2 columns]"
            ],
            "text/html": [
              "\n",
              "  <div id=\"df-9c0c8a17-609f-434e-a142-35a8d78fec43\">\n",
              "    <div class=\"colab-df-container\">\n",
              "      <div>\n",
              "<style scoped>\n",
              "    .dataframe tbody tr th:only-of-type {\n",
              "        vertical-align: middle;\n",
              "    }\n",
              "\n",
              "    .dataframe tbody tr th {\n",
              "        vertical-align: top;\n",
              "    }\n",
              "\n",
              "    .dataframe thead th {\n",
              "        text-align: right;\n",
              "    }\n",
              "</style>\n",
              "<table border=\"1\" class=\"dataframe\">\n",
              "  <thead>\n",
              "    <tr style=\"text-align: right;\">\n",
              "      <th></th>\n",
              "      <th>correct</th>\n",
              "      <th>incorrect</th>\n",
              "    </tr>\n",
              "  </thead>\n",
              "  <tbody>\n",
              "    <tr>\n",
              "      <th>0</th>\n",
              "      <td>The government should spend more money support...</td>\n",
              "      <td>The government should spend more money support...</td>\n",
              "    </tr>\n",
              "    <tr>\n",
              "      <th>1</th>\n",
              "      <td>The issue that government should give financia...</td>\n",
              "      <td>The issue that government should give economic...</td>\n",
              "    </tr>\n",
              "    <tr>\n",
              "      <th>2</th>\n",
              "      <td>On the one hand, artists produce some impressi...</td>\n",
              "      <td>On the one hand, artists produce some impressi...</td>\n",
              "    </tr>\n",
              "    <tr>\n",
              "      <th>3</th>\n",
              "      <td>On the other hand, athletes who win the champi...</td>\n",
              "      <td>On the other hand, athletes who win her champi...</td>\n",
              "    </tr>\n",
              "    <tr>\n",
              "      <th>4</th>\n",
              "      <td>However, in the ultimate analysis, the governm...</td>\n",
              "      <td>However, in the ultimate analysis, the governe...</td>\n",
              "    </tr>\n",
              "    <tr>\n",
              "      <th>...</th>\n",
              "      <td>...</td>\n",
              "      <td>...</td>\n",
              "    </tr>\n",
              "    <tr>\n",
              "      <th>487</th>\n",
              "      <td>In contrast, graduates who are reluctant to pa...</td>\n",
              "      <td>In contrast, graduates who are reluctant to pa...</td>\n",
              "    </tr>\n",
              "    <tr>\n",
              "      <th>488</th>\n",
              "      <td>As a case in point, researchers have found tha...</td>\n",
              "      <td>As any case in point, researchers have found t...</td>\n",
              "    </tr>\n",
              "    <tr>\n",
              "      <th>489</th>\n",
              "      <td>Between the two extremes, I think treating ani...</td>\n",
              "      <td>Between the twe extremes, I think treating ani...</td>\n",
              "    </tr>\n",
              "    <tr>\n",
              "      <th>490</th>\n",
              "      <td>An individual human existence should be like a...</td>\n",
              "      <td>An individual human existence should be like a...</td>\n",
              "    </tr>\n",
              "    <tr>\n",
              "      <th>491</th>\n",
              "      <td>Gradually the river grows wider, the banks rec...</td>\n",
              "      <td>Gradually the river grows wider, the banks rec...</td>\n",
              "    </tr>\n",
              "  </tbody>\n",
              "</table>\n",
              "<p>492 rows × 2 columns</p>\n",
              "</div>\n",
              "      <button class=\"colab-df-convert\" onclick=\"convertToInteractive('df-9c0c8a17-609f-434e-a142-35a8d78fec43')\"\n",
              "              title=\"Convert this dataframe to an interactive table.\"\n",
              "              style=\"display:none;\">\n",
              "        \n",
              "  <svg xmlns=\"http://www.w3.org/2000/svg\" height=\"24px\"viewBox=\"0 0 24 24\"\n",
              "       width=\"24px\">\n",
              "    <path d=\"M0 0h24v24H0V0z\" fill=\"none\"/>\n",
              "    <path d=\"M18.56 5.44l.94 2.06.94-2.06 2.06-.94-2.06-.94-.94-2.06-.94 2.06-2.06.94zm-11 1L8.5 8.5l.94-2.06 2.06-.94-2.06-.94L8.5 2.5l-.94 2.06-2.06.94zm10 10l.94 2.06.94-2.06 2.06-.94-2.06-.94-.94-2.06-.94 2.06-2.06.94z\"/><path d=\"M17.41 7.96l-1.37-1.37c-.4-.4-.92-.59-1.43-.59-.52 0-1.04.2-1.43.59L10.3 9.45l-7.72 7.72c-.78.78-.78 2.05 0 2.83L4 21.41c.39.39.9.59 1.41.59.51 0 1.02-.2 1.41-.59l7.78-7.78 2.81-2.81c.8-.78.8-2.07 0-2.86zM5.41 20L4 18.59l7.72-7.72 1.47 1.35L5.41 20z\"/>\n",
              "  </svg>\n",
              "      </button>\n",
              "      \n",
              "  <style>\n",
              "    .colab-df-container {\n",
              "      display:flex;\n",
              "      flex-wrap:wrap;\n",
              "      gap: 12px;\n",
              "    }\n",
              "\n",
              "    .colab-df-convert {\n",
              "      background-color: #E8F0FE;\n",
              "      border: none;\n",
              "      border-radius: 50%;\n",
              "      cursor: pointer;\n",
              "      display: none;\n",
              "      fill: #1967D2;\n",
              "      height: 32px;\n",
              "      padding: 0 0 0 0;\n",
              "      width: 32px;\n",
              "    }\n",
              "\n",
              "    .colab-df-convert:hover {\n",
              "      background-color: #E2EBFA;\n",
              "      box-shadow: 0px 1px 2px rgba(60, 64, 67, 0.3), 0px 1px 3px 1px rgba(60, 64, 67, 0.15);\n",
              "      fill: #174EA6;\n",
              "    }\n",
              "\n",
              "    [theme=dark] .colab-df-convert {\n",
              "      background-color: #3B4455;\n",
              "      fill: #D2E3FC;\n",
              "    }\n",
              "\n",
              "    [theme=dark] .colab-df-convert:hover {\n",
              "      background-color: #434B5C;\n",
              "      box-shadow: 0px 1px 3px 1px rgba(0, 0, 0, 0.15);\n",
              "      filter: drop-shadow(0px 1px 2px rgba(0, 0, 0, 0.3));\n",
              "      fill: #FFFFFF;\n",
              "    }\n",
              "  </style>\n",
              "\n",
              "      <script>\n",
              "        const buttonEl =\n",
              "          document.querySelector('#df-9c0c8a17-609f-434e-a142-35a8d78fec43 button.colab-df-convert');\n",
              "        buttonEl.style.display =\n",
              "          google.colab.kernel.accessAllowed ? 'block' : 'none';\n",
              "\n",
              "        async function convertToInteractive(key) {\n",
              "          const element = document.querySelector('#df-9c0c8a17-609f-434e-a142-35a8d78fec43');\n",
              "          const dataTable =\n",
              "            await google.colab.kernel.invokeFunction('convertToInteractive',\n",
              "                                                     [key], {});\n",
              "          if (!dataTable) return;\n",
              "\n",
              "          const docLinkHtml = 'Like what you see? Visit the ' +\n",
              "            '<a target=\"_blank\" href=https://colab.research.google.com/notebooks/data_table.ipynb>data table notebook</a>'\n",
              "            + ' to learn more about interactive tables.';\n",
              "          element.innerHTML = '';\n",
              "          dataTable['output_type'] = 'display_data';\n",
              "          await google.colab.output.renderOutput(dataTable, element);\n",
              "          const docLink = document.createElement('div');\n",
              "          docLink.innerHTML = docLinkHtml;\n",
              "          element.appendChild(docLink);\n",
              "        }\n",
              "      </script>\n",
              "    </div>\n",
              "  </div>\n",
              "  "
            ]
          },
          "metadata": {},
          "execution_count": 9
        }
      ]
    },
    {
      "cell_type": "code",
      "source": [
        "df.to_csv(\"new_create_data.csv\")"
      ],
      "metadata": {
        "id": "pjspfmTnRLlE"
      },
      "execution_count": 10,
      "outputs": []
    }
  ]
}