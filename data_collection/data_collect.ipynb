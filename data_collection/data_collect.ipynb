{
  "nbformat": 4,
  "nbformat_minor": 0,
  "metadata": {
    "colab": {
      "provenance": []
    },
    "kernelspec": {
      "name": "python3",
      "display_name": "Python 3"
    },
    "language_info": {
      "name": "python"
    }
  },
  "cells": [
    {
      "cell_type": "code",
      "source": [
        "! pip install datasets"
      ],
      "metadata": {
        "id": "5LlDYuD9RCsH"
      },
      "execution_count": null,
      "outputs": []
    },
    {
      "cell_type": "code",
      "source": [
        "from tqdm import tqdm\n",
        "import nltk\n",
        "nltk.download('punkt')\n",
        "from nltk.tokenize import sent_tokenize\n",
        "import random\n",
        "import pandas as pd"
      ],
      "metadata": {
        "id": "NdcnSD0vMLth",
        "colab": {
          "base_uri": "https://localhost:8080/"
        },
        "outputId": "0c5a2a4e-0d91-46b2-82f9-da2f312779ea"
      },
      "execution_count": null,
      "outputs": [
        {
          "output_type": "stream",
          "name": "stderr",
          "text": [
            "[nltk_data] Downloading package punkt to /root/nltk_data...\n",
            "[nltk_data]   Unzipping tokenizers/punkt.zip.\n"
          ]
        }
      ]
    },
    {
      "cell_type": "code",
      "execution_count": null,
      "metadata": {
        "id": "qBwVbhUko6gy"
      },
      "outputs": [],
      "source": [
        "m2 = open(\"fce.train.gold.bea19.m2\").read().strip().split(\"\\n\\n\")"
      ]
    },
    {
      "cell_type": "code",
      "source": [
        "target_error_type = [\"R:NOUN\", \"R:VERB\", \"R:ADV\", \"R:ADJ\", \n",
        "          \"R:VERB:FORM\", \"R:ADJ:FORM\", \"R:NOUN:INFL\", \"R:VERB:INFL\", \"R:NOUN:NUM\", \"R:VERB:SVA\", \"R:VERB:SVA\",\n",
        "          \"R:PREP\", \"R:DET\", \"R:PRON\", \"R:CONJ\", \"R:PART\", \"R:CONTR\", \"R:SPELL\"]"
      ],
      "metadata": {
        "id": "K0K4ii80F4Aq"
      },
      "execution_count": null,
      "outputs": []
    },
    {
      "cell_type": "code",
      "source": [
        "def extract_error_pattern(m2):\n",
        "  perturb_dict = {}\n",
        "  for sent in tqdm(m2):\n",
        "    sent = sent.split(\"\\n\")\n",
        "    wrong_sent = sent[0].split()[1:] # ignore S\n",
        "    edits = sent[1:]\n",
        "    for edit in edits:\n",
        "      edit = edit.split(\"|||\")\n",
        "      error_type = edit[1]\n",
        "      if error_type not in target_error_type:\n",
        "        continue\n",
        "      annotator_id = int(edit[-1])\n",
        "      if annotator_id != 0:\n",
        "        continue\n",
        "      position = edit[0].split()[1:] # ignore A\n",
        "      start = int(position[0])\n",
        "      end = int(position[1])\n",
        "      correct_word = edit[2]\n",
        "      wrong_word = wrong_sent[start:end][0]\n",
        "      if correct_word in perturb_dict.keys():\n",
        "        if wrong_word not in perturb_dict[correct_word]:\n",
        "          perturb_dict[correct_word].append(wrong_word)\n",
        "      else:\n",
        "        perturb_dict[correct_word]=[wrong_word]\n",
        "  return perturb_dict"
      ],
      "metadata": {
        "id": "5Eadh05au2XG"
      },
      "execution_count": null,
      "outputs": []
    },
    {
      "cell_type": "code",
      "source": [
        "perturb_dict = extract_error_pattern(m2)"
      ],
      "metadata": {
        "colab": {
          "base_uri": "https://localhost:8080/"
        },
        "id": "vAZDbOMntIkV",
        "outputId": "3ad89a13-4804-40b1-e458-c8849bb6e918"
      },
      "execution_count": null,
      "outputs": [
        {
          "output_type": "stream",
          "name": "stderr",
          "text": [
            "100%|██████████| 28350/28350 [00:00<00:00, 182214.33it/s]\n"
          ]
        }
      ]
    },
    {
      "cell_type": "code",
      "source": [
        "perturb_dict"
      ],
      "metadata": {
        "id": "pGdkpUUzNbmD"
      },
      "execution_count": null,
      "outputs": []
    },
    {
      "cell_type": "code",
      "source": [
        "def create_new_samples(txt, num_error_per_sent, num_error_sample):\n",
        "  correct_sent_list = []\n",
        "  wrong_sent_list = []\n",
        "  for sent in tqdm(sent_tokenize(txt)):\n",
        "    for _ in range(num_error_sample):\n",
        "      correct_sent_list.append(sent)\n",
        "      words = sent.split()\n",
        "      potential_word = []\n",
        "      for i, word in enumerate(words):\n",
        "        if word in perturb_dict.keys():\n",
        "          potential_word.append((i, word))\n",
        "      word_to_change = random.choices(potential_word, k=num_error_per_sent)\n",
        "      for pick_word_position, pick_word in word_to_change:\n",
        "        replace_word = random.choice(perturb_dict[pick_word])\n",
        "        words[pick_word_position] = replace_word\n",
        "      wrong_sent_list.append(str(' '.join(words)))\n",
        "  df = pd.DataFrame()\n",
        "  df[\"input\"] = wrong_sent_list\n",
        "  df[\"output\"] = correct_sent_list\n",
        "  return df"
      ],
      "metadata": {
        "id": "4EjqMx3C0Kk9"
      },
      "execution_count": null,
      "outputs": []
    },
    {
      "cell_type": "code",
      "source": [
        "toefl = open('tpo.txt').read()"
      ],
      "metadata": {
        "id": "ud9rFOKHRGKu"
      },
      "execution_count": null,
      "outputs": []
    },
    {
      "cell_type": "code",
      "source": [
        "df_new = create_new_samples(toefl, num_error_per_sent=1, num_error_sample=3)"
      ],
      "metadata": {
        "colab": {
          "base_uri": "https://localhost:8080/"
        },
        "id": "SZYk-a5eRBZO",
        "outputId": "fee62c6b-7143-40a7-f9ec-76a5259dc303"
      },
      "execution_count": null,
      "outputs": [
        {
          "output_type": "stream",
          "name": "stderr",
          "text": [
            "100%|██████████| 493/493 [00:00<00:00, 19918.62it/s]\n"
          ]
        }
      ]
    },
    {
      "cell_type": "code",
      "source": [
        "df_new.to_csv(\"new_create_data.csv\", index=False)"
      ],
      "metadata": {
        "id": "JuOaeOVpTCwa"
      },
      "execution_count": null,
      "outputs": []
    },
    {
      "cell_type": "code",
      "source": [
        "df_new"
      ],
      "metadata": {
        "colab": {
          "base_uri": "https://localhost:8080/",
          "height": 424
        },
        "id": "KSE7FxE6DNba",
        "outputId": "83651b9c-406c-4cf8-b7b9-f3cbd7406930"
      },
      "execution_count": null,
      "outputs": [
        {
          "output_type": "execute_result",
          "data": {
            "text/plain": [
              "                                                  input  \\\n",
              "0     That government should spend more money suppor...   \n",
              "1     The government should spend longer money suppo...   \n",
              "2     The government should spend more money support...   \n",
              "3     The issue that government should give financia...   \n",
              "4     The issue what government should give financia...   \n",
              "...                                                 ...   \n",
              "1474  An individual human existence should be like a...   \n",
              "1475  An individual human existence should are like ...   \n",
              "1476  Gradually the river grows wider, the banks rec...   \n",
              "1477  Gradually the river grows wider, the banks rec...   \n",
              "1478  Gradually the river grows wider, the banks rec...   \n",
              "\n",
              "                                                 output  \n",
              "0     The government should spend more money support...  \n",
              "1     The government should spend more money support...  \n",
              "2     The government should spend more money support...  \n",
              "3     The issue that government should give financia...  \n",
              "4     The issue that government should give financia...  \n",
              "...                                                 ...  \n",
              "1474  An individual human existence should be like a...  \n",
              "1475  An individual human existence should be like a...  \n",
              "1476  Gradually the river grows wider, the banks rec...  \n",
              "1477  Gradually the river grows wider, the banks rec...  \n",
              "1478  Gradually the river grows wider, the banks rec...  \n",
              "\n",
              "[1479 rows x 2 columns]"
            ],
            "text/html": [
              "\n",
              "  <div id=\"df-33ef702e-f36a-4b05-be41-c8cd1f710070\">\n",
              "    <div class=\"colab-df-container\">\n",
              "      <div>\n",
              "<style scoped>\n",
              "    .dataframe tbody tr th:only-of-type {\n",
              "        vertical-align: middle;\n",
              "    }\n",
              "\n",
              "    .dataframe tbody tr th {\n",
              "        vertical-align: top;\n",
              "    }\n",
              "\n",
              "    .dataframe thead th {\n",
              "        text-align: right;\n",
              "    }\n",
              "</style>\n",
              "<table border=\"1\" class=\"dataframe\">\n",
              "  <thead>\n",
              "    <tr style=\"text-align: right;\">\n",
              "      <th></th>\n",
              "      <th>input</th>\n",
              "      <th>output</th>\n",
              "    </tr>\n",
              "  </thead>\n",
              "  <tbody>\n",
              "    <tr>\n",
              "      <th>0</th>\n",
              "      <td>That government should spend more money suppor...</td>\n",
              "      <td>The government should spend more money support...</td>\n",
              "    </tr>\n",
              "    <tr>\n",
              "      <th>1</th>\n",
              "      <td>The government should spend longer money suppo...</td>\n",
              "      <td>The government should spend more money support...</td>\n",
              "    </tr>\n",
              "    <tr>\n",
              "      <th>2</th>\n",
              "      <td>The government should spend more money support...</td>\n",
              "      <td>The government should spend more money support...</td>\n",
              "    </tr>\n",
              "    <tr>\n",
              "      <th>3</th>\n",
              "      <td>The issue that government should give financia...</td>\n",
              "      <td>The issue that government should give financia...</td>\n",
              "    </tr>\n",
              "    <tr>\n",
              "      <th>4</th>\n",
              "      <td>The issue what government should give financia...</td>\n",
              "      <td>The issue that government should give financia...</td>\n",
              "    </tr>\n",
              "    <tr>\n",
              "      <th>...</th>\n",
              "      <td>...</td>\n",
              "      <td>...</td>\n",
              "    </tr>\n",
              "    <tr>\n",
              "      <th>1474</th>\n",
              "      <td>An individual human existence should be like a...</td>\n",
              "      <td>An individual human existence should be like a...</td>\n",
              "    </tr>\n",
              "    <tr>\n",
              "      <th>1475</th>\n",
              "      <td>An individual human existence should are like ...</td>\n",
              "      <td>An individual human existence should be like a...</td>\n",
              "    </tr>\n",
              "    <tr>\n",
              "      <th>1476</th>\n",
              "      <td>Gradually the river grows wider, the banks rec...</td>\n",
              "      <td>Gradually the river grows wider, the banks rec...</td>\n",
              "    </tr>\n",
              "    <tr>\n",
              "      <th>1477</th>\n",
              "      <td>Gradually the river grows wider, the banks rec...</td>\n",
              "      <td>Gradually the river grows wider, the banks rec...</td>\n",
              "    </tr>\n",
              "    <tr>\n",
              "      <th>1478</th>\n",
              "      <td>Gradually the river grows wider, the banks rec...</td>\n",
              "      <td>Gradually the river grows wider, the banks rec...</td>\n",
              "    </tr>\n",
              "  </tbody>\n",
              "</table>\n",
              "<p>1479 rows × 2 columns</p>\n",
              "</div>\n",
              "      <button class=\"colab-df-convert\" onclick=\"convertToInteractive('df-33ef702e-f36a-4b05-be41-c8cd1f710070')\"\n",
              "              title=\"Convert this dataframe to an interactive table.\"\n",
              "              style=\"display:none;\">\n",
              "        \n",
              "  <svg xmlns=\"http://www.w3.org/2000/svg\" height=\"24px\"viewBox=\"0 0 24 24\"\n",
              "       width=\"24px\">\n",
              "    <path d=\"M0 0h24v24H0V0z\" fill=\"none\"/>\n",
              "    <path d=\"M18.56 5.44l.94 2.06.94-2.06 2.06-.94-2.06-.94-.94-2.06-.94 2.06-2.06.94zm-11 1L8.5 8.5l.94-2.06 2.06-.94-2.06-.94L8.5 2.5l-.94 2.06-2.06.94zm10 10l.94 2.06.94-2.06 2.06-.94-2.06-.94-.94-2.06-.94 2.06-2.06.94z\"/><path d=\"M17.41 7.96l-1.37-1.37c-.4-.4-.92-.59-1.43-.59-.52 0-1.04.2-1.43.59L10.3 9.45l-7.72 7.72c-.78.78-.78 2.05 0 2.83L4 21.41c.39.39.9.59 1.41.59.51 0 1.02-.2 1.41-.59l7.78-7.78 2.81-2.81c.8-.78.8-2.07 0-2.86zM5.41 20L4 18.59l7.72-7.72 1.47 1.35L5.41 20z\"/>\n",
              "  </svg>\n",
              "      </button>\n",
              "      \n",
              "  <style>\n",
              "    .colab-df-container {\n",
              "      display:flex;\n",
              "      flex-wrap:wrap;\n",
              "      gap: 12px;\n",
              "    }\n",
              "\n",
              "    .colab-df-convert {\n",
              "      background-color: #E8F0FE;\n",
              "      border: none;\n",
              "      border-radius: 50%;\n",
              "      cursor: pointer;\n",
              "      display: none;\n",
              "      fill: #1967D2;\n",
              "      height: 32px;\n",
              "      padding: 0 0 0 0;\n",
              "      width: 32px;\n",
              "    }\n",
              "\n",
              "    .colab-df-convert:hover {\n",
              "      background-color: #E2EBFA;\n",
              "      box-shadow: 0px 1px 2px rgba(60, 64, 67, 0.3), 0px 1px 3px 1px rgba(60, 64, 67, 0.15);\n",
              "      fill: #174EA6;\n",
              "    }\n",
              "\n",
              "    [theme=dark] .colab-df-convert {\n",
              "      background-color: #3B4455;\n",
              "      fill: #D2E3FC;\n",
              "    }\n",
              "\n",
              "    [theme=dark] .colab-df-convert:hover {\n",
              "      background-color: #434B5C;\n",
              "      box-shadow: 0px 1px 3px 1px rgba(0, 0, 0, 0.15);\n",
              "      filter: drop-shadow(0px 1px 2px rgba(0, 0, 0, 0.3));\n",
              "      fill: #FFFFFF;\n",
              "    }\n",
              "  </style>\n",
              "\n",
              "      <script>\n",
              "        const buttonEl =\n",
              "          document.querySelector('#df-33ef702e-f36a-4b05-be41-c8cd1f710070 button.colab-df-convert');\n",
              "        buttonEl.style.display =\n",
              "          google.colab.kernel.accessAllowed ? 'block' : 'none';\n",
              "\n",
              "        async function convertToInteractive(key) {\n",
              "          const element = document.querySelector('#df-33ef702e-f36a-4b05-be41-c8cd1f710070');\n",
              "          const dataTable =\n",
              "            await google.colab.kernel.invokeFunction('convertToInteractive',\n",
              "                                                     [key], {});\n",
              "          if (!dataTable) return;\n",
              "\n",
              "          const docLinkHtml = 'Like what you see? Visit the ' +\n",
              "            '<a target=\"_blank\" href=https://colab.research.google.com/notebooks/data_table.ipynb>data table notebook</a>'\n",
              "            + ' to learn more about interactive tables.';\n",
              "          element.innerHTML = '';\n",
              "          dataTable['output_type'] = 'display_data';\n",
              "          await google.colab.output.renderOutput(dataTable, element);\n",
              "          const docLink = document.createElement('div');\n",
              "          docLink.innerHTML = docLinkHtml;\n",
              "          element.appendChild(docLink);\n",
              "        }\n",
              "      </script>\n",
              "    </div>\n",
              "  </div>\n",
              "  "
            ]
          },
          "metadata": {},
          "execution_count": 41
        }
      ]
    },
    {
      "cell_type": "code",
      "source": [
        "df_c4 = pd.read_csv(\"c4_200m_sub.csv\")"
      ],
      "metadata": {
        "id": "n_V5WbGyTGcj"
      },
      "execution_count": null,
      "outputs": []
    },
    {
      "cell_type": "code",
      "source": [
        "df_c4"
      ],
      "metadata": {
        "colab": {
          "base_uri": "https://localhost:8080/",
          "height": 424
        },
        "id": "XYxxsiOcTHk2",
        "outputId": "b6ac6ee5-a018-4c61-bae6-8efe849467a2"
      },
      "execution_count": null,
      "outputs": [
        {
          "output_type": "execute_result",
          "data": {
            "text/plain": [
              "                                                   input  \\\n",
              "0      Organizational mission of Kiss The Ground is i...   \n",
              "1      Tap The Thumbnail Bellow to See Related Galler...   \n",
              "2      when I relax that’s when I shake or jolt to me...   \n",
              "3      Our neighbor Jay-dub (nickname courtesy of me ...   \n",
              "4      Kummrow Automotive is now a Official Distribut...   \n",
              "...                                                  ...   \n",
              "24995  And if you grab it a day, you’ll get limitted ...   \n",
              "24996                   Anyone know the name of the buff   \n",
              "24997  A. AnS IBM TS3500 storage frame must be upgrad...   \n",
              "24998  I teamed up with a few of my blogger friends f...   \n",
              "24999  Salazar has been acknowledge that her campaign...   \n",
              "\n",
              "                                                  output  \n",
              "0      The organizational mission of Kiss the Ground ...  \n",
              "1      Tap The Thumbnail Bellow to See Related Galler...  \n",
              "2      if I relax that’s when I shake or jolt, like t...  \n",
              "3      Our neighbor Jay-dub (nickname courtesy me sin...  \n",
              "4      Kummrow Automotive is now an official Dinan Di...  \n",
              "...                                                  ...  \n",
              "24995  And if you grab it today, you’ll get a limited...  \n",
              "24996                  Anyone know the name of the buff?  \n",
              "24997  A. An IBM TS3500 storage frame must be upgrade...  \n",
              "24998  I teamed up with a few of my blogger friends f...  \n",
              "24999  Salazar has acknowledged that her campaign was...  \n",
              "\n",
              "[25000 rows x 2 columns]"
            ],
            "text/html": [
              "\n",
              "  <div id=\"df-2d86db87-eebd-4340-8da8-f9df01e51b20\">\n",
              "    <div class=\"colab-df-container\">\n",
              "      <div>\n",
              "<style scoped>\n",
              "    .dataframe tbody tr th:only-of-type {\n",
              "        vertical-align: middle;\n",
              "    }\n",
              "\n",
              "    .dataframe tbody tr th {\n",
              "        vertical-align: top;\n",
              "    }\n",
              "\n",
              "    .dataframe thead th {\n",
              "        text-align: right;\n",
              "    }\n",
              "</style>\n",
              "<table border=\"1\" class=\"dataframe\">\n",
              "  <thead>\n",
              "    <tr style=\"text-align: right;\">\n",
              "      <th></th>\n",
              "      <th>input</th>\n",
              "      <th>output</th>\n",
              "    </tr>\n",
              "  </thead>\n",
              "  <tbody>\n",
              "    <tr>\n",
              "      <th>0</th>\n",
              "      <td>Organizational mission of Kiss The Ground is i...</td>\n",
              "      <td>The organizational mission of Kiss the Ground ...</td>\n",
              "    </tr>\n",
              "    <tr>\n",
              "      <th>1</th>\n",
              "      <td>Tap The Thumbnail Bellow to See Related Galler...</td>\n",
              "      <td>Tap The Thumbnail Bellow to See Related Galler...</td>\n",
              "    </tr>\n",
              "    <tr>\n",
              "      <th>2</th>\n",
              "      <td>when I relax that’s when I shake or jolt to me...</td>\n",
              "      <td>if I relax that’s when I shake or jolt, like t...</td>\n",
              "    </tr>\n",
              "    <tr>\n",
              "      <th>3</th>\n",
              "      <td>Our neighbor Jay-dub (nickname courtesy of me ...</td>\n",
              "      <td>Our neighbor Jay-dub (nickname courtesy me sin...</td>\n",
              "    </tr>\n",
              "    <tr>\n",
              "      <th>4</th>\n",
              "      <td>Kummrow Automotive is now a Official Distribut...</td>\n",
              "      <td>Kummrow Automotive is now an official Dinan Di...</td>\n",
              "    </tr>\n",
              "    <tr>\n",
              "      <th>...</th>\n",
              "      <td>...</td>\n",
              "      <td>...</td>\n",
              "    </tr>\n",
              "    <tr>\n",
              "      <th>24995</th>\n",
              "      <td>And if you grab it a day, you’ll get limitted ...</td>\n",
              "      <td>And if you grab it today, you’ll get a limited...</td>\n",
              "    </tr>\n",
              "    <tr>\n",
              "      <th>24996</th>\n",
              "      <td>Anyone know the name of the buff</td>\n",
              "      <td>Anyone know the name of the buff?</td>\n",
              "    </tr>\n",
              "    <tr>\n",
              "      <th>24997</th>\n",
              "      <td>A. AnS IBM TS3500 storage frame must be upgrad...</td>\n",
              "      <td>A. An IBM TS3500 storage frame must be upgrade...</td>\n",
              "    </tr>\n",
              "    <tr>\n",
              "      <th>24998</th>\n",
              "      <td>I teamed up with a few of my blogger friends f...</td>\n",
              "      <td>I teamed up with a few of my blogger friends f...</td>\n",
              "    </tr>\n",
              "    <tr>\n",
              "      <th>24999</th>\n",
              "      <td>Salazar has been acknowledge that her campaign...</td>\n",
              "      <td>Salazar has acknowledged that her campaign was...</td>\n",
              "    </tr>\n",
              "  </tbody>\n",
              "</table>\n",
              "<p>25000 rows × 2 columns</p>\n",
              "</div>\n",
              "      <button class=\"colab-df-convert\" onclick=\"convertToInteractive('df-2d86db87-eebd-4340-8da8-f9df01e51b20')\"\n",
              "              title=\"Convert this dataframe to an interactive table.\"\n",
              "              style=\"display:none;\">\n",
              "        \n",
              "  <svg xmlns=\"http://www.w3.org/2000/svg\" height=\"24px\"viewBox=\"0 0 24 24\"\n",
              "       width=\"24px\">\n",
              "    <path d=\"M0 0h24v24H0V0z\" fill=\"none\"/>\n",
              "    <path d=\"M18.56 5.44l.94 2.06.94-2.06 2.06-.94-2.06-.94-.94-2.06-.94 2.06-2.06.94zm-11 1L8.5 8.5l.94-2.06 2.06-.94-2.06-.94L8.5 2.5l-.94 2.06-2.06.94zm10 10l.94 2.06.94-2.06 2.06-.94-2.06-.94-.94-2.06-.94 2.06-2.06.94z\"/><path d=\"M17.41 7.96l-1.37-1.37c-.4-.4-.92-.59-1.43-.59-.52 0-1.04.2-1.43.59L10.3 9.45l-7.72 7.72c-.78.78-.78 2.05 0 2.83L4 21.41c.39.39.9.59 1.41.59.51 0 1.02-.2 1.41-.59l7.78-7.78 2.81-2.81c.8-.78.8-2.07 0-2.86zM5.41 20L4 18.59l7.72-7.72 1.47 1.35L5.41 20z\"/>\n",
              "  </svg>\n",
              "      </button>\n",
              "      \n",
              "  <style>\n",
              "    .colab-df-container {\n",
              "      display:flex;\n",
              "      flex-wrap:wrap;\n",
              "      gap: 12px;\n",
              "    }\n",
              "\n",
              "    .colab-df-convert {\n",
              "      background-color: #E8F0FE;\n",
              "      border: none;\n",
              "      border-radius: 50%;\n",
              "      cursor: pointer;\n",
              "      display: none;\n",
              "      fill: #1967D2;\n",
              "      height: 32px;\n",
              "      padding: 0 0 0 0;\n",
              "      width: 32px;\n",
              "    }\n",
              "\n",
              "    .colab-df-convert:hover {\n",
              "      background-color: #E2EBFA;\n",
              "      box-shadow: 0px 1px 2px rgba(60, 64, 67, 0.3), 0px 1px 3px 1px rgba(60, 64, 67, 0.15);\n",
              "      fill: #174EA6;\n",
              "    }\n",
              "\n",
              "    [theme=dark] .colab-df-convert {\n",
              "      background-color: #3B4455;\n",
              "      fill: #D2E3FC;\n",
              "    }\n",
              "\n",
              "    [theme=dark] .colab-df-convert:hover {\n",
              "      background-color: #434B5C;\n",
              "      box-shadow: 0px 1px 3px 1px rgba(0, 0, 0, 0.15);\n",
              "      filter: drop-shadow(0px 1px 2px rgba(0, 0, 0, 0.3));\n",
              "      fill: #FFFFFF;\n",
              "    }\n",
              "  </style>\n",
              "\n",
              "      <script>\n",
              "        const buttonEl =\n",
              "          document.querySelector('#df-2d86db87-eebd-4340-8da8-f9df01e51b20 button.colab-df-convert');\n",
              "        buttonEl.style.display =\n",
              "          google.colab.kernel.accessAllowed ? 'block' : 'none';\n",
              "\n",
              "        async function convertToInteractive(key) {\n",
              "          const element = document.querySelector('#df-2d86db87-eebd-4340-8da8-f9df01e51b20');\n",
              "          const dataTable =\n",
              "            await google.colab.kernel.invokeFunction('convertToInteractive',\n",
              "                                                     [key], {});\n",
              "          if (!dataTable) return;\n",
              "\n",
              "          const docLinkHtml = 'Like what you see? Visit the ' +\n",
              "            '<a target=\"_blank\" href=https://colab.research.google.com/notebooks/data_table.ipynb>data table notebook</a>'\n",
              "            + ' to learn more about interactive tables.';\n",
              "          element.innerHTML = '';\n",
              "          dataTable['output_type'] = 'display_data';\n",
              "          await google.colab.output.renderOutput(dataTable, element);\n",
              "          const docLink = document.createElement('div');\n",
              "          docLink.innerHTML = docLinkHtml;\n",
              "          element.appendChild(docLink);\n",
              "        }\n",
              "      </script>\n",
              "    </div>\n",
              "  </div>\n",
              "  "
            ]
          },
          "metadata": {},
          "execution_count": 15
        }
      ]
    },
    {
      "cell_type": "code",
      "source": [
        "df_concat = pd.concat([df_new, df_c4], axis=0, ignore_index=True)"
      ],
      "metadata": {
        "id": "O2PuNpNzNwv0"
      },
      "execution_count": null,
      "outputs": []
    },
    {
      "cell_type": "code",
      "source": [
        "df_concat = df_concat[df_concat[\"input\"].str.contains(\"�|★\") == False]\n",
        "df_concat = df_concat[df_concat[\"output\"].str.contains(\"�|★\") == False]"
      ],
      "metadata": {
        "id": "KDmp6KNje21l"
      },
      "execution_count": null,
      "outputs": []
    },
    {
      "cell_type": "code",
      "source": [
        "df_concat.to_csv(\"data_combine.csv\", index=False)"
      ],
      "metadata": {
        "id": "pS3mEYVXNrRN"
      },
      "execution_count": null,
      "outputs": []
    }
  ]
}